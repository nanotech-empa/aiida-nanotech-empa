{
 "cells": [
  {
   "cell_type": "code",
   "execution_count": null,
   "metadata": {},
   "outputs": [],
   "source": [
    "%aiida"
   ]
  },
  {
   "cell_type": "code",
   "execution_count": null,
   "metadata": {},
   "outputs": [],
   "source": [
    "import os\n",
    "import sys\n",
    "import numpy as np\n",
    "import matplotlib.pyplot as plt\n",
    "\n",
    "import ase.io\n",
    "\n",
    "from aiida.engine import submit, run_get_node, run\n",
    "from aiida.orm import Int, Float, Str, Bool, Code, Dict, List\n",
    "from aiida.orm import StructureData, RemoteData, FolderData\n",
    "\n",
    "GaussianSpinWorkChain = WorkflowFactory('nanotech_empa.gaussian.spin')\n",
    "\n",
    "import aiida_nanotech_empa.utils.gaussian_spin_wc_postprocess as pp"
   ]
  },
  {
   "cell_type": "code",
   "execution_count": null,
   "metadata": {},
   "outputs": [],
   "source": [
    "ase_geom = ase.io.read(\"./hexacene.xyz\")\n",
    "ase_geom.cell = np.diag([10.0, 10.0, 10.0])\n",
    "\n",
    "struct_node = StructureData(ase=ase_geom)"
   ]
  },
  {
   "cell_type": "markdown",
   "metadata": {},
   "source": [
    "# submit"
   ]
  },
  {
   "cell_type": "code",
   "execution_count": null,
   "metadata": {},
   "outputs": [],
   "source": [
    "wc_node = submit(\n",
    "    GaussianSpinWorkChain,\n",
    "    gaussian_code=load_code(\"gaussian09@euler\"),\n",
    "    formchk_code=load_code(\"formchk@euler\"),\n",
    "    cubegen_code=load_code(\"cubegen@euler\"),\n",
    "    structure=struct_node,\n",
    "    functional=Str('B3LYP'),\n",
    "    basis_set_opt=Str('6-31G*'),\n",
    "    basis_set_scf=Str('6-31+G*'),\n",
    "    multiplicity_list=List(list=[0, 1, 3]),\n",
    ")"
   ]
  },
  {
   "cell_type": "code",
   "execution_count": null,
   "metadata": {},
   "outputs": [],
   "source": [
    "wc_node.pk"
   ]
  },
  {
   "cell_type": "markdown",
   "metadata": {},
   "source": [
    "# monitor"
   ]
  },
  {
   "cell_type": "code",
   "execution_count": null,
   "metadata": {},
   "outputs": [],
   "source": [
    "def wc_overview(wc_node, indent=\"\"):\n",
    "    if wc_node.is_excepted:\n",
    "        info = \"**EXCEPTED**\"\n",
    "    elif not wc_node.is_terminated:\n",
    "        info = \"RUNNING\"\n",
    "    else:\n",
    "        info = \"\"\n",
    "    print(indent + \"%d %s %s %s\" % (wc_node.pk, wc_node.description, wc_node.process_label, info))\n",
    "    for c in reversed(wc_node.called):\n",
    "        wc_overview(c, indent=indent+\"    \")"
   ]
  },
  {
   "cell_type": "code",
   "execution_count": null,
   "metadata": {},
   "outputs": [],
   "source": [
    "wc_overview(wc_node)"
   ]
  },
  {
   "cell_type": "markdown",
   "metadata": {},
   "source": [
    "# report"
   ]
  },
  {
   "cell_type": "code",
   "execution_count": null,
   "metadata": {
    "scrolled": false
   },
   "outputs": [],
   "source": [
    "pp.make_report(wc_node)"
   ]
  },
  {
   "cell_type": "code",
   "execution_count": null,
   "metadata": {},
   "outputs": [],
   "source": []
  }
 ],
 "metadata": {
  "kernelspec": {
   "display_name": "Python 3",
   "language": "python",
   "name": "python3"
  },
  "language_info": {
   "codemirror_mode": {
    "name": "ipython",
    "version": 3
   },
   "file_extension": ".py",
   "mimetype": "text/x-python",
   "name": "python",
   "nbconvert_exporter": "python",
   "pygments_lexer": "ipython3",
   "version": "3.9.1"
  }
 },
 "nbformat": 4,
 "nbformat_minor": 4
}
