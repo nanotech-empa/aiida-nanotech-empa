{
 "cells": [
  {
   "cell_type": "markdown",
   "id": "d09311ba",
   "metadata": {},
   "source": [
    "# Simulated Vibronic Spectrum"
   ]
  },
  {
   "cell_type": "code",
   "execution_count": 1,
   "id": "8138c36a",
   "metadata": {},
   "outputs": [],
   "source": [
    "%aiida\n",
    "import numpy as np\n",
    "import math\n",
    "from matplotlib import pyplot\n",
    "from scipy import constants\n",
    "import ipywidgets as ipw\n",
    "from IPython.display import clear_output"
   ]
  },
  {
   "cell_type": "code",
   "execution_count": 2,
   "id": "66127e22",
   "metadata": {},
   "outputs": [],
   "source": [
    "wc = load_node(3458)"
   ]
  },
  {
   "cell_type": "code",
   "execution_count": 3,
   "id": "8c21ab7a",
   "metadata": {},
   "outputs": [],
   "source": [
    "charged_out = wc.outputs.charged_out.get_dict()\n",
    "neutral_out = wc.outputs.neutral_out.get_dict()"
   ]
  },
  {
   "cell_type": "code",
   "execution_count": 4,
   "id": "e00b1e6c",
   "metadata": {},
   "outputs": [],
   "source": [
    "charged_coordinates = np.array(charged_out['atomcoords'][-1])\n",
    "neutral_coordinates = np.array(neutral_out['atomcoords'][-1])\n",
    "atom_displacement = (charged_coordinates - neutral_coordinates)\n",
    "masses = neutral_out['atommasses']"
   ]
  },
  {
   "cell_type": "code",
   "execution_count": 5,
   "id": "0b3586d1",
   "metadata": {},
   "outputs": [],
   "source": [
    "# I get error in 6th digit wrt Nil's results\n",
    "# it looks like the aiida parser is not precise enough.\n",
    "mass_weighted_displacement = (atom_displacement.transpose() * np.sqrt(masses)).transpose()"
   ]
  },
  {
   "cell_type": "code",
   "execution_count": 6,
   "id": "8fca7588",
   "metadata": {},
   "outputs": [],
   "source": [
    "displacements = np.array(charged_out['vibdisps'])"
   ]
  },
  {
   "cell_type": "code",
   "execution_count": 7,
   "id": "ce0e0a00",
   "metadata": {},
   "outputs": [],
   "source": [
    "nominator = (displacements.transpose([0, 2,1]) * np.sqrt(masses)).transpose([0, 2, 1])\n",
    "#denominator = np.sum(np.einsum('ijk,ijk->ij', nominator, nominator), axis=1)\n",
    "# the one below is the same, but simpler\n",
    "denominator = np.sqrt(np.sum(nominator**2, axis=(1,2)))\n",
    "normal_modes = (nominator.transpose([2,1, 0])/denominator).transpose([2,1,0])"
   ]
  },
  {
   "cell_type": "code",
   "execution_count": 8,
   "id": "6f95baf3",
   "metadata": {},
   "outputs": [],
   "source": [
    "vibrational_mode_amplitudes = np.einsum(\"ijk,jk->i\", normal_modes, mass_weighted_displacement)"
   ]
  },
  {
   "cell_type": "code",
   "execution_count": 9,
   "id": "6117bbfb",
   "metadata": {},
   "outputs": [],
   "source": [
    "# 0.0001239842573148 eV = 1 cm^-1\n",
    "vibrational_energies = np.array(charged_out['vibfreqs'])"
   ]
  },
  {
   "cell_type": "code",
   "execution_count": 10,
   "id": "d1db1d4e",
   "metadata": {},
   "outputs": [],
   "source": [
    "huang_rhys_factors = np.abs(vibrational_energies) * vibrational_mode_amplitudes**2 \\\n",
    "    * np.pi * 2.99792458 / 1.054571817 * 1.66053906660 * 1e-3"
   ]
  },
  {
   "cell_type": "code",
   "execution_count": 11,
   "id": "41dccfca",
   "metadata": {},
   "outputs": [],
   "source": [
    "vibrational_energies *= 0.0001239842573148"
   ]
  },
  {
   "cell_type": "code",
   "execution_count": 12,
   "id": "b8325601",
   "metadata": {},
   "outputs": [],
   "source": [
    "def put_intensities_on_energy_grid(intensities, vibrational_energy, energy_resolution):\n",
    "    number_of_harmonics = len(intensities)\n",
    "    grid_size = round(vibrational_energy * (number_of_harmonics -1) / energy_resolution) + 1\n",
    "    grid = np.zeros(grid_size)\n",
    "    for i, intensity in enumerate(intensities):\n",
    "        n_point = round(vibrational_energy * i / energy_resolution)\n",
    "        grid[n_point] = intensity\n",
    "    return grid\n",
    "\n",
    "def lorentzian(x, g):\n",
    "    return g / np.pi * 0.5 / (x**2 + 0.25 * g**2)\n",
    "\n",
    "def lorentzian_borders(g, t, energy_resolution):\n",
    "    value = g / 2.0 * np.sqrt((1.0 - t)/t)\n",
    "    return np.linspace(-value, value, int(np.round(value*2/energy_resolution)))"
   ]
  },
  {
   "cell_type": "code",
   "execution_count": 13,
   "id": "a8d4a1f1",
   "metadata": {},
   "outputs": [],
   "source": [
    "out = ipw.Output()\n",
    "def changed(_=None):\n",
    "    global intensities, ife, ife_with_broadering\n",
    "    with out:\n",
    "\n",
    "        intensities = []\n",
    "        for hrf in huang_rhys_factors:\n",
    "            intensities.append([])\n",
    "            intensity = max_intensity = np.exp(-hrf)\n",
    "            n=1\n",
    "            while intensity/max_intensity > intensity_threshold_widget.value:\n",
    "                intensities[-1].append(intensity)\n",
    "                intensity = np.exp(-hrf) * (hrf**n) / math.factorial(n)\n",
    "                max_intensity = max(intensity, max_intensity)\n",
    "                n+=1\n",
    "\n",
    "        ife = [1]\n",
    "        for i, intensity in enumerate(intensities):\n",
    "            intens_on_grid = put_intensities_on_energy_grid(intensity, vibrational_energies[i], er_widget.value)\n",
    "            ife = np.convolve(intens_on_grid, ife)\n",
    "        \n",
    "        x_points_lorentzian = lorentzian_borders(fwhm_widget.value, intensity_threshold_widget.value, er_widget.value)\n",
    "        lp = lorentzian(\n",
    "            x_points_lorentzian,\n",
    "            fwhm_widget.value,\n",
    "        )\n",
    "        ife_with_broadering = np.convolve(ife, lp)\n",
    "        ife_with_broadering /= np.max(ife_with_broadering)\n",
    "        #ife_with_broadering = np.convolve(ife, lp)\n",
    "        clear_output()\n",
    "        x_axis = np.linspace(0, er_widget.value*len(ife_with_broadering), len(ife_with_broadering)) + x_points_lorentzian[0]\n",
    "        x_axis *= 1000\n",
    "        #print(ife_with_broadering.shape)\n",
    "        pyplot.plot(x_axis, ife_with_broadering)\n",
    "        pyplot.xlabel(\"Energy (meV)\")\n",
    "        pyplot.xlim([min_x.value, max_x.value])\n",
    "        pyplot.show()"
   ]
  },
  {
   "cell_type": "code",
   "execution_count": 14,
   "id": "dcbef8ec",
   "metadata": {},
   "outputs": [],
   "source": [
    "er_widget = ipw.FloatLogSlider(\n",
    "    value=0.1,\n",
    "    base=10,\n",
    "    min=-5, # max exponent of base\n",
    "    max=-1, # min exponent of base\n",
    "    step=0.2, # exponent step\n",
    "    description='Energy resolution',\n",
    "    style={'description_width': 'initial'},\n",
    ")\n",
    "er_widget.observe(changed, names='value')\n",
    "\n",
    "fwhm_widget = ipw.FloatLogSlider(\n",
    "    value=0.006,\n",
    "    base=10,\n",
    "    min=-4, # max exponent of base\n",
    "    max=0, # min exponent of base\n",
    "    step=0.2, # exponent step\n",
    "    description='FWHM ',\n",
    "    style={'description_width': 'initial'},\n",
    ")\n",
    "fwhm_widget.observe(changed, names='value')\n",
    "\n",
    "intensity_threshold_widget = ipw.FloatLogSlider(\n",
    "    value=0.02,\n",
    "    base=10,\n",
    "    min=-4, # max exponent of base\n",
    "    max=0, # min exponent of base\n",
    "    step=0.2, # exponent step\n",
    "    description='Intensity threshold ',\n",
    "    style={'description_width': 'initial'},\n",
    ")\n",
    "\n",
    "intensity_threshold_widget.observe(changed, names='value')\n",
    "\n",
    "min_x = ipw.FloatText(\n",
    "    value=0,\n",
    "    description='Min X:',\n",
    "    disabled=False\n",
    ")\n",
    "\n",
    "max_x = ipw.FloatText(\n",
    "    value=700,\n",
    "    description='Max X:',\n",
    "    disabled=False\n",
    ")"
   ]
  },
  {
   "cell_type": "code",
   "execution_count": 15,
   "id": "7b203050",
   "metadata": {},
   "outputs": [
    {
     "data": {
      "application/vnd.jupyter.widget-view+json": {
       "model_id": "88027c72371b4d21868ed9422e74921a",
       "version_major": 2,
       "version_minor": 0
      },
      "text/plain": [
       "FloatLogSlider(value=0.1, description='Energy resolution', max=-1.0, min=-5.0, step=0.2, style=SliderStyle(des…"
      ]
     },
     "metadata": {},
     "output_type": "display_data"
    },
    {
     "data": {
      "application/vnd.jupyter.widget-view+json": {
       "model_id": "782824f686de4ed683bc64db76b73f7f",
       "version_major": 2,
       "version_minor": 0
      },
      "text/plain": [
       "FloatLogSlider(value=0.006, description='FWHM ', max=0.0, min=-4.0, step=0.2, style=SliderStyle(description_wi…"
      ]
     },
     "metadata": {},
     "output_type": "display_data"
    },
    {
     "data": {
      "application/vnd.jupyter.widget-view+json": {
       "model_id": "bf5c194c91bf4dd798107df9f47b58bd",
       "version_major": 2,
       "version_minor": 0
      },
      "text/plain": [
       "FloatLogSlider(value=0.02, description='Intensity threshold ', max=0.0, min=-4.0, step=0.2, style=SliderStyle(…"
      ]
     },
     "metadata": {},
     "output_type": "display_data"
    },
    {
     "data": {
      "application/vnd.jupyter.widget-view+json": {
       "model_id": "1ca870cfb8174239a920fbdb893b2d68",
       "version_major": 2,
       "version_minor": 0
      },
      "text/plain": [
       "HBox(children=(FloatText(value=0.0, description='Min X:'), FloatText(value=700.0, description='Max X:')))"
      ]
     },
     "metadata": {},
     "output_type": "display_data"
    },
    {
     "data": {
      "application/vnd.jupyter.widget-view+json": {
       "model_id": "0db7d91ebb0d49e08367dcc448468897",
       "version_major": 2,
       "version_minor": 0
      },
      "text/plain": [
       "Output()"
      ]
     },
     "metadata": {},
     "output_type": "display_data"
    }
   ],
   "source": [
    "display(er_widget, fwhm_widget, intensity_threshold_widget, ipw.HBox([min_x, max_x]), out)"
   ]
  }
 ],
 "metadata": {
  "kernelspec": {
   "display_name": "Python 3 (ipykernel)",
   "language": "python",
   "name": "python3"
  },
  "language_info": {
   "codemirror_mode": {
    "name": "ipython",
    "version": 3
   },
   "file_extension": ".py",
   "mimetype": "text/x-python",
   "name": "python",
   "nbconvert_exporter": "python",
   "pygments_lexer": "ipython3",
   "version": "3.7.9"
  }
 },
 "nbformat": 4,
 "nbformat_minor": 5
}
